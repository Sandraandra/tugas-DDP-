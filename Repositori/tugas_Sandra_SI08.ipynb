{
  "nbformat": 4,
  "nbformat_minor": 0,
  "metadata": {
    "colab": {
      "provenance": [],
      "authorship_tag": "ABX9TyMtCrq6ZwMmH1ztEE9h8zWh",
      "include_colab_link": true
    },
    "kernelspec": {
      "name": "python3",
      "display_name": "Python 3"
    },
    "language_info": {
      "name": "python"
    }
  },
  "cells": [
    {
      "cell_type": "markdown",
      "metadata": {
        "id": "view-in-github",
        "colab_type": "text"
      },
      "source": [
        "<a href=\"https://colab.research.google.com/github/Sandraandra/tugas-DDP-/blob/main/Repositori/tugas_Sandra_SI08.ipynb\" target=\"_parent\"><img src=\"https://colab.research.google.com/assets/colab-badge.svg\" alt=\"Open In Colab\"/></a>"
      ]
    },
    {
      "cell_type": "code",
      "source": [
        "Mobil = [\"TOYOTA 475\", \"Mobil LCGC\", \"ALPARD 1,200 cc\"]\n",
        "print(Mobil)\n",
        "\n",
        "Mobil.append(\"Biru\")\n",
        "Mobil.append(4)\n",
        "Mobil.append(3000000000)\n",
        "\n",
        "print(Mobil)\n",
        "\n",
        "pilihan = int(input(\"\"\"\n",
        "Silahkan pilih tools dibawah ini dengan mengirimkan nomornya\n",
        "======================================\n",
        "Tools yang tersedia\n",
        "=======================================\n",
        "1. Menghitung luas persegi\n",
        "2. Menghitung luas lingkaran\n",
        "3. Menghitung luas segitiga\n",
        "Pilihanmu? \"\"\"))\n",
        "\n",
        "if pilihan == 1:\n",
        "    sisi = float(input(\"Masukkan panjang sisi persegi: \"))\n",
        "    luas_persegi = sisi * sisi\n",
        "    print(\"Luas persegi adalah:\", luas_persegi)\n",
        "elif pilihan == 2:\n",
        "    jari_jari = float(input(\"Masukkan jari-jari lingkaran: \"))\n",
        "    luas_lingkaran = 3.14159 * jari_jari * jari_jari\n",
        "    print(\"Luas lingkaran adalah:\", luas_lingkaran)\n",
        "elif pilihan == 3:\n",
        "    alas = float(input(\"Masukkan panjang alas segitiga: \"))\n",
        "    tinggi = float(input(\"Masukkan tinggi segitiga: \"))\n",
        "    luas_segitiga = 0.5 * alas * tinggi\n",
        "    print(\"Luas segitiga adalah:\", luas_segitiga)\n",
        "else:\n",
        "    print(\"Pilihan tidak valid\")\n",
        "\n",
        "pilihan_operasi = int(input(\"\"\"\n",
        "Silahkan pilih nomor dibawah ini untuk menggunakan alat berikut ini:\n",
        "==================================\n",
        "Pilihan\n",
        "==================================\n",
        "1. Pertambahan\n",
        "2. Pengurangan\n",
        "3. Pembagian\n",
        "=================================\n",
        "Pilihanmu? \"\"\"))\n",
        "\n",
        "bilangan1 = int(input(\"Bilangan 1 = \"))\n",
        "bilangan2 = int(input(\"Bilangan 2 = \"))\n",
        "\n",
        "if pilihan_operasi == 1:\n",
        "    hasil = bilangan1 + bilangan2\n",
        "    print(\"Hasilnya adalah\", hasil)\n",
        "elif pilihan_operasi == 2:\n",
        "    hasil = bilangan1 - bilangan2\n",
        "    print(\"Hasilnya adalah\", hasil)\n",
        "elif pilihan_operasi == 3:\n",
        "    hasil = bilangan1 / bilangan2\n",
        "    print(\"Hasilnya adalah\", hasil)\n",
        "else:\n",
        "    print(\"Pilihan operasi tidak valid\")\n"
      ],
      "metadata": {
        "colab": {
          "base_uri": "https://localhost:8080/"
        },
        "id": "A4mK3NkWQUX3",
        "outputId": "ca773e13-b263-4f4c-b602-17e815b8df43"
      },
      "execution_count": null,
      "outputs": [
        {
          "output_type": "stream",
          "name": "stdout",
          "text": [
            "['TOYOTA 475', 'Mobil LCGC', 'ALPARD 1,200 cc']\n",
            "['TOYOTA 475', 'Mobil LCGC', 'ALPARD 1,200 cc', 'Biru', 4, 3000000000]\n"
          ]
        }
      ]
    }
  ]
}